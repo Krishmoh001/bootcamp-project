{
  "nbformat": 4,
  "nbformat_minor": 0,
  "metadata": {
    "colab": {
      "name": "Copy of Mohith_cyber_security.ipynb",
      "provenance": [],
      "collapsed_sections": []
    },
    "kernelspec": {
      "name": "python3",
      "display_name": "Python 3"
    },
    "language_info": {
      "name": "python"
    }
  },
  "cells": [
    {
      "cell_type": "code",
      "metadata": {
        "id": "E2iKfjkyJPqG",
        "colab": {
          "base_uri": "https://localhost:8080/"
        },
        "outputId": "34c89f2a-09f4-4585-942d-d6937ca9eafe"
      },
      "source": [
        "import requests\n",
        "from datetime import datetime\n",
        "api_key= '67da040602240b4b29f8a42448a167db'\n",
        "location = input(\"enter the city name:\")\n",
        "complete_api_link = \"https://api.openweathermap.org/data/2.5/weather?q=\"+location+\"&appid=\"+api_key\n",
        "api_link = requests.get(complete_api_link)\n",
        "api_data = api_link.json()\n",
        "\n",
        "temp_city = ((api_data['main']['temp']) - 273.15)\n",
        "weather_desc = api_data['weather'][0]['description']\n",
        "hmdt = api_data['main']['humidity']\n",
        "wind_spd = api_data['wind']['speed']\n",
        "date_time = datetime.now().strftime(\"%d %b %Y | %I:%M:%S %p\")\n",
        "\n",
        "print (\"-------------------------------------------------------------\")\n",
        "print (\"Weather Stats for - {}  || {}\".format(location.upper(), date_time))\n",
        "print (\"-------------------------------------------------------------\")\n",
        "\n",
        "print (\"Current temperature is: {:.2f} deg C\".format(temp_city))\n",
        "print (\"Current weather desc  :\",weather_desc)\n",
        "print (\"Current Humidity      :\",hmdt, '%')\n",
        "print (\"Current wind speed    :\",wind_spd ,'kmph')"
      ],
      "execution_count": null,
      "outputs": [
        {
          "output_type": "stream",
          "text": [
            "enter the city name:Mysore\n",
            "-------------------------------------------------------------\n",
            "Weather Stats for - MYSORE  || 23 Jun 2021 | 12:19:25 PM\n",
            "-------------------------------------------------------------\n",
            "Current temperature is: 30.00 deg C\n",
            "Current weather desc  : scattered clouds\n",
            "Current Humidity      : 51 %\n",
            "Current wind speed    : 6.69 kmph\n"
          ],
          "name": "stdout"
        }
      ]
    },
    {
      "cell_type": "code",
      "metadata": {
        "colab": {
          "base_uri": "https://localhost:8080/"
        },
        "id": "UQzlC8rDuYpO",
        "outputId": "dd962c20-6d91-4f04-81a0-623d6f73683c"
      },
      "source": [
        "txtdoc=[temp_city,weather_desc,hmdt,wind_spd,date_time]\n",
        "with open(\"Mohith_cyber_security.txt\",'w',encoding = 'utf-8')as f:\n",
        "\n",
        "   f.write(\"-----------------------------------------------------------------------------------\")\n",
        "   f.write(\"Weather Stats for - {} || {}\".format(location.upper(),date_time))\n",
        "   f.write(\"-----------------------------------------------------------------------------------\")\n",
        "   f.write(\"current Temperature is: {:.2f} deg C\\n\".format(txtdoc[0]))\n",
        "\n",
        "\n",
        "   f.write(\"{} , {} \\n\" .format(\"current weather desc : \" ,txtdoc[1]))\n",
        "   f.write(\"{} ,{} ,{} \\n\".format(\"current humidity:\",txtdoc[2],\"%\"))\n",
        "   f.write(\"{} ,{} ,{} \\n\".format(\"current wind speed:\",txtdoc[3],\"kmph\"))\n",
        "   f.write(\"-----------------------------------------------------------------------------------\")\n",
        "\n",
        "f.close\n"
      ],
      "execution_count": null,
      "outputs": [
        {
          "output_type": "execute_result",
          "data": {
            "text/plain": [
              "<function TextIOWrapper.close>"
            ]
          },
          "metadata": {
            "tags": []
          },
          "execution_count": 14
        }
      ]
    }
  ]
}